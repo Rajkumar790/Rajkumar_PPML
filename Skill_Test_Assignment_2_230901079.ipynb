
{
  "nbformat": 4,
  "nbformat_minor": 0,
  "metadata": {
    "colab": {
      "provenance": [],
      "authorship_tag": "ABX9TyP/c/X5h3g1Wa/2g9WAkWuS",
      "include_colab_link": true
    },
    "kernelspec": {
      "name": "python3",
      "display_name": "Python 3"
    },
    "language_info": {
      "name": "python"
    }
  },
  "cells": [
    {
      "cell_type": "markdown",
      "metadata": {
        "id": "view-in-github",
        "colab_type": "text"
      },
      "source": [
        "<a href=\"https://colab.research.google.com/github/Pragadishwaran074/Python-Programming-for-Machine-Learning/blob/main/Skill_Test_Assignment_2_230901074.ipynb\" target=\"_parent\"><img src=\"https://colab.research.google.com/assets/colab-badge.svg\" alt=\"Open In Colab\"/></a>"
      ]
    },
    {
      "cell_type": "code",
      "execution_count": 1,
      "metadata": {
        "colab": {
          "base_uri": "https://localhost:8080/"
        },
        "id": "BQOaNcCnUc4h",
        "outputId": "2bee3e6e-5b12-47fa-a530-9f4610fe1716"
      },
      "outputs": [
        {
          "output_type": "stream",
          "name": "stdout",
          "text": [
            "Predictions: [1 1 1]\n",
            "Actual Labels: [1 1 0]\n",
            "Accuracy: 0.6666666666666666\n"
          ]
        }
      ],
      "source": [
        "import pandas as pd\n",
        "from sklearn.neighbors import KNeighborsClassifier\n",
        "from sklearn.model_selection import train_test_split\n",
        "from sklearn.metrics import accuracy_score\n",
        "\n",
        "data = {\n",
        "    'Amplitude': [1, 1.5, 0.8, 2, 1.2, 1.7, 0.9, 2.1, 1.1, 1.8, 0.95, 2.2, 1, 1.9, 1.3],\n",
        "    'Frequency': [50, 60, 55, 40, 65, 45, 70, 35, 60, 48, 62, 42, 58, 46, 66],\n",
        "    'Duration': [1, 0.5, 1.2, 1, 0.8, 1.5, 1, 1.3, 0.9, 1, 1.1, 0.7, 1, 1.2, 0.6],\n",
        "    'Peak_to_Peak': [2, 3, 1.6, 4, 2.4, 3.4, 1.8, 4.2, 2.2, 3.6, 1.9, 4.4, 2, 3.8, 2.6],\n",
        "    'Label': [0, 1, 0, 1, 0, 1, 0, 1, 0, 1, 0, 1, 0, 1, 0]\n",
        "}\n",
        "\n",
        "df = pd.DataFrame(data)\n",
        "\n",
        "X = df[['Amplitude', 'Frequency', 'Duration', 'Peak_to_Peak']]\n",
        "y = df['Label']\n",
        "\n",
        "X_train, X_test, y_train, y_test = train_test_split(X, y, test_size=0.2, random_state=42)\n",
        "\n",
        "knn = KNeighborsClassifier(n_neighbors=3)\n",
        "knn.fit(X_train, y_train)\n",
        "\n",
        "y_pred = knn.predict(X_test)\n",
        "accuracy = accuracy_score(y_test, y_pred)\n",
        "\n",
        "print(\"Predictions:\", y_pred)\n",
        "print(\"Actual Labels:\", y_test.values)\n",
        "print(\"Accuracy:\", accuracy)\n"
      ]
    },
    {
      "cell_type": "code",
      "source": [
        "import pandas as pd\n",
        "from sklearn.neighbors import KNeighborsClassifier\n",
        "from sklearn.model_selection import train_test_split\n",
        "from sklearn.metrics import accuracy_score\n",
        "\n",
        "data = {\n",
        "    'Voltage': [5, 5.5, 4.8, 6, 6.5, 6.2, 4.9, 5.8, 5.2, 6.3],\n",
        "    'Current': [0.5, 0.4, 0.6, 0.3, 0.2, 0.25, 0.55, 0.35, 0.5, 0.22],\n",
        "    'Status': [1, 1, 1, 0, 0, 0, 1, 0, 1, 0]\n",
        "}\n",
        "\n",
        "df = pd.DataFrame(data)\n",
        "\n",
        "X = df[['Voltage', 'Current']]\n",
        "y = df['Status']\n",
        "\n",
        "X_train, X_test, y_train, y_test = train_test_split(X, y, test_size=0.2, random_state=42)\n",
        "\n",
        "knn = KNeighborsClassifier(n_neighbors=3)\n",
        "knn.fit(X_train, y_train)\n",
        "\n",
        "y_pred = knn.predict(X_test)\n",
        "accuracy = accuracy_score(y_test, y_pred)\n",
        "\n",
        "print(\"Predictions:\", y_pred)\n",
        "print(\"Actual Labels:\", y_test.values)\n",
        "print(\"Accuracy:\", accuracy)\n"
      ],
      "metadata": {
        "colab": {
          "base_uri": "https://localhost:8080/"
        },
        "id": "NeChzEF2U2WP",
        "outputId": "0d95152c-55c7-40f0-9a6e-241d0960f7aa"
      },
      "execution_count": 2,
      "outputs": [
        {
          "output_type": "stream",
          "name": "stdout",
          "text": [
            "Predictions: [1 0]\n",
            "Actual Labels: [1 1]\n",
            "Accuracy: 0.5\n"
          ]
        }
      ]
    },
    {
      "cell_type": "code",
      "source": [
        "import pandas as pd\n",
        "from sklearn.linear_model import LinearRegression\n",
        "from sklearn.model_selection import train_test_split\n",
        "from sklearn.metrics import mean_squared_error\n",
        "\n",
        "data = {\n",
        "    'Study_Hours': [3, 4, 5, 6, 7, 8, 9, 10, 11, 12],\n",
        "    'Final_Score': [50, 55, 60, 65, 68, 70, 78, 75, 82, 85]\n",
        "}\n",
        "\n",
        "df = pd.DataFrame(data)\n",
        "\n",
        "X = df[['Study_Hours']]\n",
        "y = df['Final_Score']\n",
        "\n",
        "X_train, X_test, y_train, y_test = train_test_split(X, y, test_size=0.2, random_state=42)\n",
        "\n",
        "model = LinearRegression()\n",
        "model.fit(X_train, y_train)\n",
        "\n",
        "y_pred = model.predict(X_test)\n",
        "mse = mean_squared_error(y_test, y_pred)\n",
        "\n",
        "print(\"Predicted Scores:\", y_pred)\n",
        "print(\"Actual Scores:\", y_test.values)\n",
        "print(\"Mean Squared Error:\", mse)\n"
      ],
      "metadata": {
        "colab": {
          "base_uri": "https://localhost:8080/"
        },
        "id": "k0mdkXVyU5bP",
        "outputId": "58c713db-f38c-4fa3-8cd6-a3b3d44504bd"
      },
      "execution_count": 3,
      "outputs": [
        {
          "output_type": "stream",
          "name": "stdout",
          "text": [
            "Predicted Scores: [81.87931034 55.87068966]\n",
            "Actual Scores: [82 55]\n",
            "Mean Squared Error: 0.3863332342449455\n"
          ]
        }
      ]
    },
    {
      "cell_type": "code",
      "source": [
        "import pandas as pd\n",
        "from sklearn.linear_model import LinearRegression\n",
        "from sklearn.model_selection import train_test_split\n",
        "from sklearn.metrics import mean_squared_error\n",
        "\n",
        "data = {\n",
        "    'Year': [2010, 2011, 2012, 2013, 2014, 2015, 2016, 2017, 2018, 2019],\n",
        "    'Price': [25, 28, 30, 34, 37, 40, 43, 45, 47, 50]\n",
        "}\n",
        "\n",
        "df = pd.DataFrame(data)\n",
        "\n",
        "X = df[['Year']]\n",
        "y = df['Price']\n",
        "\n",
        "X_train, X_test, y_train, y_test = train_test_split(X, y, test_size=0.2, random_state=42)\n",
        "\n",
        "model = LinearRegression()\n",
        "model.fit(X_train, y_train)\n",
        "\n",
        "y_pred = model.predict(X_test)\n",
        "mse = mean_squared_error(y_test, y_pred)\n",
        "\n",
        "print(\"Predicted Prices:\", y_pred)\n",
        "print(\"Actual Prices:\", y_test.values)\n",
        "print(\"Mean Squared Error:\", mse)\n"
      ],
      "metadata": {
        "colab": {
          "base_uri": "https://localhost:8080/"
        },
        "id": "t6iiVlLoVKZG",
        "outputId": "3873f2aa-dcd2-47f8-d290-b38795e9d989"
      },
      "execution_count": 4,
      "outputs": [
        {
          "output_type": "stream",
          "name": "stdout",
          "text": [
            "Predicted Prices: [47.95689655 28.04310345]\n",
            "Actual Prices: [47 28]\n",
            "Mean Squared Error: 0.45875445897790557\n"
          ]
        }
      ]
    },
    {
      "cell_type": "code",
      "source": [
        "import pandas as pd\n",
        "from sklearn.tree import DecisionTreeClassifier\n",
        "from sklearn.model_selection import train_test_split\n",
        "from sklearn.preprocessing import LabelEncoder\n",
        "from sklearn.metrics import accuracy_score\n",
        "\n",
        "data = {\n",
        "    'Transmitter': ['T1', 'T2', 'T1', 'T3', 'T2', 'T1', 'T3', 'T2', 'T1', 'T3'],\n",
        "    'Signal_Strength': [75, 50, 90, 40, 85, 70, 30, 60, 80, 20],\n",
        "    'Frequency': [2000, 1500, 2200, 1300, 2100, 1800, 1200, 1600, 1900, 1100],\n",
        "    'Signal_Quality': ['Good', 'Bad', 'Good', 'Bad', 'Good', 'Good', 'Bad', 'Bad', 'Good', 'Bad']\n",
        "}\n",
        "\n",
        "df = pd.DataFrame(data)\n",
        "\n",
        "le_transmitter = LabelEncoder()\n",
        "le_quality = LabelEncoder()\n",
        "\n",
        "df['Transmitter'] = le_transmitter.fit_transform(df['Transmitter'])\n",
        "df['Signal_Quality'] = le_quality.fit_transform(df['Signal_Quality'])\n",
        "\n",
        "X = df[['Transmitter', 'Signal_Strength', 'Frequency']]\n",
        "y = df['Signal_Quality']\n",
        "\n",
        "X_train, X_test, y_train, y_test = train_test_split(X, y, test_size=0.2, random_state=42)\n",
        "\n",
        "model = DecisionTreeClassifier()\n",
        "model.fit(X_train, y_train)\n",
        "\n",
        "y_pred = model.predict(X_test)\n",
        "accuracy = accuracy_score(y_test, y_pred)\n",
        "\n",
        "print(\"Predictions:\", y_pred)\n",
        "print(\"Actual Labels:\", y_test.values)\n",
        "print(\"Accuracy:\", accuracy)\n"
      ],
      "metadata": {
        "colab": {
          "base_uri": "https://localhost:8080/"
        },
        "id": "Fvj9HbiXVO--",
        "outputId": "b57a23fc-1d89-40c3-dec4-c3e092da349f"
      },
      "execution_count": 5,
      "outputs": [
        {
          "output_type": "stream",
          "name": "stdout",
          "text": [
            "Predictions: [1 0]\n",
            "Actual Labels: [1 0]\n",
            "Accuracy: 1.0\n"
          ]
        }
      ]
    },
    {
      "cell_type": "code",
      "source": [
        "import pandas as pd\n",
        "from sklearn.cluster import KMeans\n",
        "import numpy as np\n",
        "\n",
        "data = {\n",
        "    'Voltage': [4.819941, 5.249786, 4.771151, 4.602712, 4.814919, 12.38281, 12.36406, 11.22958, 12.17975, 12.06387],\n",
        "    'Current': [0.87293, 0.918358, 0.958775, 1.087788, 0.877739, 2.257141, 2.383657, 1.89107, 1.82507, 2.295757]\n",
        "}\n",
        "\n",
        "df = pd.DataFrame(data)\n",
        "\n",
        "X = df[['Voltage', 'Current']]\n",
        "\n",
        "kmeans = KMeans(n_clusters=2, random_state=42, n_init=10)\n",
        "df['Predicted_Cluster'] = kmeans.fit_predict(X)\n",
        "\n",
        "print(df)\n"
      ],
      "metadata": {
        "colab": {
          "base_uri": "https://localhost:8080/"
        },
        "id": "XdKqEXsSVSfW",
        "outputId": "70b1bf3c-381d-4f8b-9e02-b1d5c66beeeb"
      },
      "execution_count": 6,
      "outputs": [
        {
          "output_type": "stream",
          "name": "stdout",
          "text": [
            "     Voltage   Current  Predicted_Cluster\n",
            "0   4.819941  0.872930                  0\n",
            "1   5.249786  0.918358                  0\n",
            "2   4.771151  0.958775                  0\n",
            "3   4.602712  1.087788                  0\n",
            "4   4.814919  0.877739                  0\n",
            "5  12.382810  2.257141                  1\n",
            "6  12.364060  2.383657                  1\n",
            "7  11.229580  1.891070                  1\n",
            "8  12.179750  1.825070                  1\n",
            "9  12.063870  2.295757                  1\n"
          ]
        }
      ]
    }
  ]
}
