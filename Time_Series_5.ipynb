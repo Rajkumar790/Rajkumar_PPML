{
  "nbformat": 4,
  "nbformat_minor": 0,
  "metadata": {
    "colab": {
      "provenance": [],
      "authorship_tag": "ABX9TyPaI3/0S0HPUKmnXaHtmOFe",
      "include_colab_link": true
    },
    "kernelspec": {
      "name": "python3",
      "display_name": "Python 3"
    },
    "language_info": {
      "name": "python"
    }
  },
  "cells": [
    {
      "cell_type": "markdown",
      "metadata": {
        "id": "view-in-github",
        "colab_type": "text"
      },
      "source": [
        "<a href=\"https://colab.research.google.com/github/Pragadishwaran074/Python-Programming-for-Machine-Learning/blob/main/Time_Series_5.ipynb\" target=\"_parent\"><img src=\"https://colab.research.google.com/assets/colab-badge.svg\" alt=\"Open In Colab\"/></a>"
      ]
    },
    {
      "cell_type": "code",
      "execution_count": 1,
      "metadata": {
        "colab": {
          "base_uri": "https://localhost:8080/"
        },
        "id": "d_rFFCnQ6iDu",
        "outputId": "5c924068-d917-4f92-c4d2-42bc689903a4"
      },
      "outputs": [
        {
          "output_type": "stream",
          "name": "stdout",
          "text": [
            "\n",
            "With this date object, create a series with datetime index:\n",
            " 2020-01-05   -0.639153\n",
            "2020-01-10   -0.055279\n",
            "2020-01-15   -0.184898\n",
            "2020-01-20    1.028270\n",
            "2020-01-25   -0.118420\n",
            "dtype: float64\n"
          ]
        }
      ],
      "source": [
        "import pandas as pd\n",
        "import numpy as np\n",
        "from datetime import datetime\n",
        "dates = [datetime(2020,1,5),\n",
        "         datetime(2020,1,10),\n",
        "         datetime(2020,1,15),\n",
        "         datetime(2020,1,20),\n",
        "         datetime(2020,1,25)]\n",
        "ts = pd.Series(np.random.randn(5), index=dates)\n",
        "print(\"\\nWith this date object, create a series with datetime index:\\n\",ts)"
      ]
    },
    {
      "cell_type": "code",
      "source": [
        "res=ts.truncate(after=\"1/15/2020\")\n",
        "print(\"\\nTruncate method to truncate datetime series \\n\", res)"
      ],
      "metadata": {
        "colab": {
          "base_uri": "https://localhost:8080/"
        },
        "id": "ptlpHjpM6smU",
        "outputId": "14d5615d-d64e-42fa-8b60-bd15aa29cecf"
      },
      "execution_count": 2,
      "outputs": [
        {
          "output_type": "stream",
          "name": "stdout",
          "text": [
            "\n",
            "Truncate method to truncate datetime series \n",
            " 2020-01-05   -0.639153\n",
            "2020-01-10   -0.055279\n",
            "2020-01-15   -0.184898\n",
            "dtype: float64\n"
          ]
        }
      ]
    },
    {
      "cell_type": "code",
      "source": [
        "da=pd.date_range(\"10/1/2022\", periods=10, freq=\"W-SUN\")\n",
        "print(\"\\nDate range with day periods.\\n\",da)"
      ],
      "metadata": {
        "colab": {
          "base_uri": "https://localhost:8080/"
        },
        "id": "QLG_6TdU6spF",
        "outputId": "820159a9-733a-4320-94dc-85b2ab845f3a"
      },
      "execution_count": 4,
      "outputs": [
        {
          "output_type": "stream",
          "name": "stdout",
          "text": [
            "\n",
            "Date range with day periods.\n",
            " DatetimeIndex(['2022-10-02', '2022-10-09', '2022-10-16', '2022-10-23',\n",
            "               '2022-10-30', '2022-11-06', '2022-11-13', '2022-11-20',\n",
            "               '2022-11-27', '2022-12-04'],\n",
            "              dtype='datetime64[ns]', freq='W-SUN')\n"
          ]
        }
      ]
    },
    {
      "cell_type": "code",
      "source": [
        "date=pd.DatetimeIndex([\"1/1/2020\",\"1/2/2020\",\"1/2/2020\",\"1/2/2020\",\"1/3/2020\"])\n",
        "ts1=pd.Series(np.arange(5), index=date)\n",
        "print(\"\\nDuplicate datetime index:\\n\",ts1)"
      ],
      "metadata": {
        "colab": {
          "base_uri": "https://localhost:8080/"
        },
        "id": "CH1_bbLo6srt",
        "outputId": "c726182f-105a-4ba1-ed46-80182f5c8f75"
      },
      "execution_count": 6,
      "outputs": [
        {
          "output_type": "stream",
          "name": "stdout",
          "text": [
            "\n",
            "Duplicate datetime index:\n",
            " 2020-01-01    0\n",
            "2020-01-02    1\n",
            "2020-01-02    2\n",
            "2020-01-02    3\n",
            "2020-01-03    4\n",
            "dtype: int64\n"
          ]
        }
      ]
    },
    {
      "cell_type": "code",
      "source": [
        "group=ts1.groupby(level=0)\n",
        "print(\"\\nRepeated date counts:\\n\",group.count())"
      ],
      "metadata": {
        "colab": {
          "base_uri": "https://localhost:8080/"
        },
        "id": "GDwFLT1b7AAM",
        "outputId": "cf041373-e117-4148-b206-dfa25f573947"
      },
      "execution_count": 7,
      "outputs": [
        {
          "output_type": "stream",
          "name": "stdout",
          "text": [
            "\n",
            "Repeated date counts:\n",
            " 2020-01-01    1\n",
            "2020-01-02    3\n",
            "2020-01-03    1\n",
            "dtype: int64\n"
          ]
        }
      ]
    },
    {
      "cell_type": "code",
      "source": [
        "long_df=pd.DataFrame(np.random.randn(10,4),index=da,columns=list(\"ABCD\"))\n",
        "print(\"\\nMulti-column DataFrame with datatime index:\\n\",long_df)"
      ],
      "metadata": {
        "colab": {
          "base_uri": "https://localhost:8080/"
        },
        "id": "qIf44jOF7D87",
        "outputId": "53ec5ace-47ee-43a7-b33d-b14114969438"
      },
      "execution_count": 8,
      "outputs": [
        {
          "output_type": "stream",
          "name": "stdout",
          "text": [
            "\n",
            "Multi-column DataFrame with datatime index:\n",
            "                    A         B         C         D\n",
            "2022-10-02  0.699183  1.433727 -0.070425  0.437378\n",
            "2022-10-09  0.849570 -1.644159 -0.397393 -0.983473\n",
            "2022-10-16 -0.352405  0.363651  0.104985 -1.989482\n",
            "2022-10-23  1.381797 -0.455963 -1.485941 -0.683590\n",
            "2022-10-30  1.792623 -1.239555 -0.146432  0.580883\n",
            "2022-11-06 -0.709345 -0.438599  0.584892 -0.583213\n",
            "2022-11-13  0.182722  0.076621 -0.503496 -0.580911\n",
            "2022-11-20  1.662565  0.030323 -1.514694 -0.007759\n",
            "2022-11-27  0.813003  0.407818  1.106743  0.512068\n",
            "2022-12-04 -0.157847 -0.766115  0.328090 -0.014944\n"
          ]
        }
      ]
    }
  ]
}
