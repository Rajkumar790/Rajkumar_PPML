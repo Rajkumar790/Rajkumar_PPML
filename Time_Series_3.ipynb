{
  "nbformat": 4,
  "nbformat_minor": 0,
  "metadata": {
    "colab": {
      "provenance": [],
      "authorship_tag": "ABX9TyNeGsPj+csE/95RzrKHbKwN",
      "include_colab_link": true
    },
    "kernelspec": {
      "name": "python3",
      "display_name": "Python 3"
    },
    "language_info": {
      "name": "python"
    }
  },
  "cells": [
    {
      "cell_type": "markdown",
      "metadata": {
        "id": "view-in-github",
        "colab_type": "text"
      },
      "source": [
        "<a href=\"https://colab.research.google.com/github/Pragadishwaran074/Python-Programming-for-Machine-Learning/blob/main/Time_Series_3.ipynb\" target=\"_parent\"><img src=\"https://colab.research.google.com/assets/colab-badge.svg\" alt=\"Open In Colab\"/></a>"
      ]
    },
    {
      "cell_type": "code",
      "execution_count": 1,
      "metadata": {
        "colab": {
          "base_uri": "https://localhost:8080/"
        },
        "id": "I8M8p2XRvpwe",
        "outputId": "4f87abb2-edf6-4d5e-ed05-deb0454d1f87"
      },
      "outputs": [
        {
          "output_type": "stream",
          "name": "stdout",
          "text": [
            "Date Index \n",
            " 2011-01-02   -0.085959\n",
            "2011-01-05   -1.166473\n",
            "2011-01-07   -0.595168\n",
            "2011-01-08   -0.869337\n",
            "2011-01-10   -2.148875\n",
            "2011-01-12   -0.677168\n",
            "dtype: float64\n"
          ]
        }
      ],
      "source": [
        "import pandas as pd\n",
        "import numpy as np\n",
        "from datetime import datetime\n",
        "\n",
        "#create a date variable that contains the dates\n",
        "dates = [datetime(2011, 1, 2),\n",
        "         datetime(2011, 1, 5),\n",
        "         datetime(2011, 1, 7),\n",
        "         datetime(2011, 1, 8),\n",
        "         datetime(2011, 1, 10),\n",
        "         datetime(2011, 1, 12)]\n",
        "\n",
        "#with this date object, create a series\n",
        "ts = pd.Series(np.random.randn(6), index=dates)\n",
        "print(\"Date Index \\n\",ts)"
      ]
    },
    {
      "cell_type": "code",
      "source": [
        "print(\"\\nDate Index alone from the series: \\n\",ts.index)"
      ],
      "metadata": {
        "colab": {
          "base_uri": "https://localhost:8080/"
        },
        "id": "6GwnEacT48eE",
        "outputId": "985413c9-d192-4719-9ac2-a68b0ea5be64"
      },
      "execution_count": 2,
      "outputs": [
        {
          "output_type": "stream",
          "name": "stdout",
          "text": [
            "\n",
            "Date Index alone from the series: \n",
            " DatetimeIndex(['2011-01-02', '2011-01-05', '2011-01-07', '2011-01-08',\n",
            "               '2011-01-10', '2011-01-12'],\n",
            "              dtype='datetime64[ns]', freq=None)\n"
          ]
        }
      ]
    },
    {
      "cell_type": "code",
      "source": [
        "stamp=ts.index[2]\n",
        "print(\"\\nSecond index:\\n\", stamp)"
      ],
      "metadata": {
        "colab": {
          "base_uri": "https://localhost:8080/"
        },
        "id": "NwKSsJYN48gs",
        "outputId": "136740c4-9ed5-495f-b6e5-360141fcdeb6"
      },
      "execution_count": 3,
      "outputs": [
        {
          "output_type": "stream",
          "name": "stdout",
          "text": [
            "\n",
            "Second index:\n",
            " 2011-01-07 00:00:00\n"
          ]
        }
      ]
    },
    {
      "cell_type": "code",
      "source": [
        "#play like a ball with long-times series\n",
        "longer_ts=pd.Series(np.random.randn(1000),\n",
        "                    index=pd.date_range(\"2000-01-01\",periods=1000))\n",
        "print(\"\\nDaterange up to 1000 days:\\n\",longer_ts)"
      ],
      "metadata": {
        "colab": {
          "base_uri": "https://localhost:8080/"
        },
        "id": "T_09VOvZ48jL",
        "outputId": "d7ed60eb-5e01-4f72-d129-9ade80093f71"
      },
      "execution_count": 4,
      "outputs": [
        {
          "output_type": "stream",
          "name": "stdout",
          "text": [
            "\n",
            "Daterange up to 1000 days:\n",
            " 2000-01-01   -0.322892\n",
            "2000-01-02   -2.451899\n",
            "2000-01-03   -0.804452\n",
            "2000-01-04    0.588947\n",
            "2000-01-05   -1.293588\n",
            "                ...   \n",
            "2002-09-22   -0.628014\n",
            "2002-09-23   -0.572901\n",
            "2002-09-24    0.633721\n",
            "2002-09-25    1.197109\n",
            "2002-09-26   -0.924036\n",
            "Freq: D, Length: 1000, dtype: float64\n"
          ]
        }
      ]
    },
    {
      "cell_type": "code",
      "source": [
        "print(\"\\nDate range-2001 year:\\n\", longer_ts[\"2001\"])"
      ],
      "metadata": {
        "colab": {
          "base_uri": "https://localhost:8080/"
        },
        "id": "Jz_sIVo648l7",
        "outputId": "b72cfd20-7dbb-4544-e001-0289bf9da532"
      },
      "execution_count": 5,
      "outputs": [
        {
          "output_type": "stream",
          "name": "stdout",
          "text": [
            "\n",
            "Date range-2001 year:\n",
            " 2001-01-01    1.510129\n",
            "2001-01-02   -0.707284\n",
            "2001-01-03    0.317071\n",
            "2001-01-04   -0.781965\n",
            "2001-01-05   -1.772534\n",
            "                ...   \n",
            "2001-12-27    0.830116\n",
            "2001-12-28   -0.114578\n",
            "2001-12-29    0.923069\n",
            "2001-12-30   -1.332828\n",
            "2001-12-31    1.143956\n",
            "Freq: D, Length: 365, dtype: float64\n"
          ]
        }
      ]
    },
    {
      "cell_type": "code",
      "source": [
        "print(\"\\nDate range-05 month 2001 year:\\n\", longer_ts[\"2001-05\"])"
      ],
      "metadata": {
        "colab": {
          "base_uri": "https://localhost:8080/"
        },
        "id": "iuWkj88V48oe",
        "outputId": "fcbf4eaa-b948-46ef-e719-e9422cf63c6a"
      },
      "execution_count": 6,
      "outputs": [
        {
          "output_type": "stream",
          "name": "stdout",
          "text": [
            "\n",
            "Date range-05 month 2001 year:\n",
            " 2001-05-01   -0.484439\n",
            "2001-05-02   -1.611215\n",
            "2001-05-03    0.341439\n",
            "2001-05-04   -0.372969\n",
            "2001-05-05   -0.336175\n",
            "2001-05-06    0.315048\n",
            "2001-05-07   -1.258723\n",
            "2001-05-08   -2.338641\n",
            "2001-05-09    1.080783\n",
            "2001-05-10   -0.531274\n",
            "2001-05-11    0.334218\n",
            "2001-05-12   -1.260456\n",
            "2001-05-13   -0.701557\n",
            "2001-05-14   -0.293644\n",
            "2001-05-15    0.837967\n",
            "2001-05-16    1.315823\n",
            "2001-05-17   -0.320047\n",
            "2001-05-18    0.459347\n",
            "2001-05-19    0.748524\n",
            "2001-05-20    0.020881\n",
            "2001-05-21    0.899908\n",
            "2001-05-22    1.327367\n",
            "2001-05-23   -1.276262\n",
            "2001-05-24   -1.273867\n",
            "2001-05-25    1.342196\n",
            "2001-05-26    0.205929\n",
            "2001-05-27   -0.905755\n",
            "2001-05-28   -0.437802\n",
            "2001-05-29   -1.049334\n",
            "2001-05-30    2.211034\n",
            "2001-05-31   -1.935456\n",
            "Freq: D, dtype: float64\n"
          ]
        }
      ]
    },
    {
      "cell_type": "code",
      "source": [
        "print(\"\\nDate range-first few dates in 2000 year:\\n\",longer_ts[\"2000\"].head())"
      ],
      "metadata": {
        "colab": {
          "base_uri": "https://localhost:8080/"
        },
        "id": "QyQWJo-I5aHE",
        "outputId": "3407ae9c-28dd-41c3-93c6-ff20df63c0cd"
      },
      "execution_count": 7,
      "outputs": [
        {
          "output_type": "stream",
          "name": "stdout",
          "text": [
            "\n",
            "Date range-first few dates in 2000 year:\n",
            " 2000-01-01   -0.322892\n",
            "2000-01-02   -2.451899\n",
            "2000-01-03   -0.804452\n",
            "2000-01-04    0.588947\n",
            "2000-01-05   -1.293588\n",
            "Freq: D, dtype: float64\n"
          ]
        }
      ]
    },
    {
      "cell_type": "code",
      "source": [
        "print(\"\\nDate range-first 15 dates in 02 month 2001 year:\\n\",longer_ts[\"2000-02\"].head(15))"
      ],
      "metadata": {
        "colab": {
          "base_uri": "https://localhost:8080/"
        },
        "id": "m5hf67bQ5aJ7",
        "outputId": "6accfd59-bd51-4efe-b8b2-27763c8487bc"
      },
      "execution_count": 8,
      "outputs": [
        {
          "output_type": "stream",
          "name": "stdout",
          "text": [
            "\n",
            "Date range-first 15 dates in 02 month 2001 year:\n",
            " 2000-02-01   -1.163393\n",
            "2000-02-02    0.190859\n",
            "2000-02-03   -1.515874\n",
            "2000-02-04    0.162708\n",
            "2000-02-05   -0.667259\n",
            "2000-02-06   -0.935413\n",
            "2000-02-07    0.112605\n",
            "2000-02-08   -0.725703\n",
            "2000-02-09   -1.246404\n",
            "2000-02-10   -1.077012\n",
            "2000-02-11   -0.456341\n",
            "2000-02-12    1.421323\n",
            "2000-02-13   -1.709178\n",
            "2000-02-14    0.382164\n",
            "2000-02-15   -0.094543\n",
            "Freq: D, dtype: float64\n"
          ]
        }
      ]
    },
    {
      "cell_type": "code",
      "source": [
        "print(\"\\nDate range-rom 26-9-2001:\\n\",longer_ts[datetime(2000,9,26):])"
      ],
      "metadata": {
        "colab": {
          "base_uri": "https://localhost:8080/"
        },
        "id": "Bguzt_gf5g6l",
        "outputId": "96c218a4-c7e4-4bf6-b70d-e09bc2bf4117"
      },
      "execution_count": 9,
      "outputs": [
        {
          "output_type": "stream",
          "name": "stdout",
          "text": [
            "\n",
            "Date range-rom 26-9-2001:\n",
            " 2000-09-26   -0.368034\n",
            "2000-09-27   -1.756482\n",
            "2000-09-28    0.274752\n",
            "2000-09-29    2.274725\n",
            "2000-09-30   -1.512899\n",
            "                ...   \n",
            "2002-09-22   -0.628014\n",
            "2002-09-23   -0.572901\n",
            "2002-09-24    0.633721\n",
            "2002-09-25    1.197109\n",
            "2002-09-26   -0.924036\n",
            "Freq: D, Length: 731, dtype: float64\n"
          ]
        }
      ]
    },
    {
      "cell_type": "code",
      "source": [
        "print(\"\\nDate range from 26-9-2001 to 25-9- 2002:\\n\",longer_ts[datetime(2001,9,26):datetime(2002,9,25)])"
      ],
      "metadata": {
        "colab": {
          "base_uri": "https://localhost:8080/"
        },
        "id": "7HhC4bwd5g9N",
        "outputId": "3b881c34-2f9f-4dc7-d2e0-1eb5dc89cc60"
      },
      "execution_count": 10,
      "outputs": [
        {
          "output_type": "stream",
          "name": "stdout",
          "text": [
            "\n",
            "Date range from 26-9-2001 to 25-9- 2002:\n",
            " 2001-09-26   -0.587178\n",
            "2001-09-27   -0.215416\n",
            "2001-09-28    0.070416\n",
            "2001-09-29    0.261329\n",
            "2001-09-30   -1.401368\n",
            "                ...   \n",
            "2002-09-21    1.056292\n",
            "2002-09-22   -0.628014\n",
            "2002-09-23   -0.572901\n",
            "2002-09-24    0.633721\n",
            "2002-09-25    1.197109\n",
            "Freq: D, Length: 365, dtype: float64\n"
          ]
        }
      ]
    }
  ]
}
